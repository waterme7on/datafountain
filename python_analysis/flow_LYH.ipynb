{
 "cells": [
  {
   "cell_type": "code",
   "execution_count": 14,
   "metadata": {},
   "outputs": [],
   "source": [
    "#定义参数, 填入相应的读数据路径和存数据路径\n",
    "#filename_list改成自己分配的文件名\n",
    "'''\n",
    "#以下分配参数：\n",
    "#LYH: [\"part-00000.csv\",\"part-00001.csv\"，……，\"part-00007.csv\" ]\n",
    "#LJT：part-(8-15).csv\n",
    "#GSY：part-(16-23).csv\n",
    "#XQY：part-(24-31).csv\n",
    "#LL：part-(32-39).csv\n",
    "'''\n",
    "#--------------------文件名将姓名缩写改成自己的名字缩写即可-------------\n",
    "#然后逐个运行所有块即可\n",
    "#例如xqy\n",
    "# filename_list = [\"part-00032.csv\",\"part-00033.csv\",\"part-00034.csv\",\"part-00035.csv\",\"part-00036.csv\",\"part-00037.csv\",\"part-00038.csv\",\"part-00039.csv\" ]\n",
    "filename_list = [\"part-0000\"+str(i)+\".csv\" for i in range(0,8)]\n",
    "\n",
    "path_read_file = \"E:\\\\datafountain\\\\dataset_2\\\\flow\\\\csv\\\\\"\n",
    "\n",
    "path_save_file = \"E:\\\\datafountain\\\\datafountain\\\\data\\\\flow\\\\\"\n",
    "\n",
    "filename_method = \"method_LYH.csv\"\n",
    "\n",
    "filename_host_count = \"flow_host_count_LYH.csv\"\n",
    "\n",
    "filename_find_uri = \"host_uri_num_LYH.json\"\n",
    "\n",
    "filenam_host_destip =  \"flow_host_dest_LYH.json\"\n",
    "\n",
    "#--------------每个人要运行的函数-----------------#\n",
    "#直接从第一个块开始，最后一个块为止 ，点击运行即可\n",
    "# flow_data = read_flow(filename_list, path_read_file )\n",
    "\n",
    "# get_method_type(flow_data, path_save_file, filename_method) \n",
    "\n",
    "# test0=host_count(flow_data,path_save_file, filename_host_count)\n",
    "\n",
    "# host_destip(flow_data,path_save_file,filenam_host_destip )\n",
    "\n",
    "# find_uri(flow_data,path_save_file, filename_find_uri )"
   ]
  },
  {
   "cell_type": "code",
   "execution_count": 15,
   "metadata": {},
   "outputs": [],
   "source": [
    "import pandas as pd\n",
    "import os\n",
    "import json\n",
    "def read_flow(filename_list,path):\n",
    "    #实现给出path,文件名字列表，然后将其整合到flow这个df中\n",
    "    \n",
    "    f = open(path+filename_list[0], encoding=\"utf-8\")\n",
    "    flow  = pd.read_csv(f)\n",
    "    f.close()\n",
    "\n",
    "    for i in range(1, len(filename_list)):\n",
    "        f = open(path+filename_list[i], encoding=\"utf-8\")\n",
    "        temp_flow  = pd.read_csv(f)\n",
    "        f.close()\n",
    "        flow = flow.append(temp_flow)\n",
    "        \n",
    "    \n",
    "    return flow"
   ]
  },
  {
   "cell_type": "code",
   "execution_count": 16,
   "metadata": {},
   "outputs": [],
   "source": [
    "flow_data = read_flow(filename_list, path_read_file )"
   ]
  },
  {
   "cell_type": "code",
   "execution_count": 17,
   "metadata": {},
   "outputs": [],
   "source": [
    "def get_method_type(flow, path,filename):\n",
    "    #将flow数据的method读出， 存成csv文件\n",
    "    method_type = flow[\"method\"].unique()\n",
    "    method_df = pd.DataFrame(method_type,columns=['method'])\n",
    "    method_df.to_csv(path+filename)\n",
    "    return\n",
    "\n",
    ""
   ]
  },
  {
   "cell_type": "code",
   "execution_count": 18,
   "metadata": {},
   "outputs": [],
   "source": [
    "\n",
    "def host_count(DATA,path,filename):# 汇总host, 并count数量\n",
    "    l=list(DATA['host'])\n",
    "    l_dict={}\n",
    "    for item in l:\n",
    "        l_dict[item]=1 if item not in l_dict else l_dict[item]+1\n",
    "    hosts=pd.DataFrame()\n",
    "    hosts['host']=list(l_dict.keys())\n",
    "    hosts['num']=list(l_dict.values())\n",
    "    hosts.to_csv(path+filename)\n",
    "    return l_dict\n",
    "\n",
    "def host_destip(DATA,path,filename):# 按host汇总destination ip\n",
    "    tmp=pd.DataFrame()\n",
    "    host_dest={}\n",
    "    tmpt=DATA.groupby(['host'])\n",
    "    for name,group in tmpt:\n",
    "        host_dest[name]=list(group['destination_ip'])\n",
    "    with open(path+filename, 'w') as f:\n",
    "        json.dump(host_dest, f)\n",
    "    return \n",
    "\n",
    "\n",
    "def find_uri(DATA,path,filename):#按host统计uri及uri请求的次数 （不包含参数，即？之前的内容）\n",
    "    tmp=pd.DataFrame()\n",
    "    host_uri={}\n",
    "    tmpt=DATA.groupby(['host'])\n",
    "    for name,group in tmpt:\n",
    "        uris=list(group['uri'])\n",
    "        uri_true={}\n",
    "        for uri in uris:\n",
    "            uri=str(uri)\n",
    "            ques=uri.find('?')\n",
    "            if ques!=-1:\n",
    "                uri=uri[:ques]\n",
    "            else:\n",
    "                uri=uri\n",
    "            uri_true[uri]=1 if uri not in uri_true else uri_true[uri]+1\n",
    "        host_uri[name]=uri_true\n",
    "    with open(path+filename, 'w') as f:\n",
    "        json.dump(host_uri, f)\n",
    "        print(name)\n",
    "    return"
   ]
  },
  {
   "cell_type": "code",
   "execution_count": 19,
   "metadata": {},
   "outputs": [
    {
     "name": "stdout",
     "output_type": "stream",
     "text": "zzzxjgbh.com\n"
    }
   ],
   "source": [
    "\n",
    "get_method_type(flow_data, path_save_file, filename_method) \n",
    "\n",
    "test0=host_count(flow_data,path_save_file, filename_host_count)\n",
    "\n",
    "host_destip(flow_data,path_save_file,filenam_host_destip )\n",
    "\n",
    "find_uri(flow_data,path_save_file, filename_find_uri )"
   ]
  },
  {
   "cell_type": "code",
   "execution_count": null,
   "metadata": {},
   "outputs": [],
   "source": []
  }
 ],
 "metadata": {
  "kernelspec": {
   "display_name": "Python 3",
   "language": "python",
   "name": "python3"
  },
  "language_info": {
   "codemirror_mode": {
    "name": "ipython",
    "version": 3
   },
   "file_extension": ".py",
   "mimetype": "text/x-python",
   "name": "python",
   "nbconvert_exporter": "python",
   "pygments_lexer": "ipython3",
   "version": "3.7.1"
  }
 },
 "nbformat": 4,
 "nbformat_minor": 2
}