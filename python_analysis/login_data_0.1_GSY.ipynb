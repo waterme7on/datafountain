{
 "cells": [
  {
   "cell_type": "code",
   "execution_count": 1,
   "metadata": {},
   "outputs": [
    {
     "data": {
      "text/html": [
       "<div>\n",
       "<style scoped>\n",
       "    .dataframe tbody tr th:only-of-type {\n",
       "        vertical-align: middle;\n",
       "    }\n",
       "\n",
       "    .dataframe tbody tr th {\n",
       "        vertical-align: top;\n",
       "    }\n",
       "\n",
       "    .dataframe thead th {\n",
       "        text-align: right;\n",
       "    }\n",
       "</style>\n",
       "<table border=\"1\" class=\"dataframe\">\n",
       "  <thead>\n",
       "    <tr style=\"text-align: right;\">\n",
       "      <th></th>\n",
       "      <th>Unnamed: 0</th>\n",
       "      <th>destination_ip</th>\n",
       "      <th>destination_port</th>\n",
       "      <th>info</th>\n",
       "      <th>password</th>\n",
       "      <th>protocol</th>\n",
       "      <th>record_time</th>\n",
       "      <th>source_ip</th>\n",
       "      <th>source_port</th>\n",
       "      <th>user</th>\n",
       "    </tr>\n",
       "  </thead>\n",
       "  <tbody>\n",
       "    <tr>\n",
       "      <th>0</th>\n",
       "      <td>0</td>\n",
       "      <td>10.49.22.87</td>\n",
       "      <td>21</td>\n",
       "      <td>530 Logout.</td>\n",
       "      <td>f379eaf3c831b04de153469d1bec345e</td>\n",
       "      <td>ftp</td>\n",
       "      <td>2019-05-30 23:51:46.734</td>\n",
       "      <td>10.49.212.206</td>\n",
       "      <td>35910</td>\n",
       "      <td>lss6</td>\n",
       "    </tr>\n",
       "    <tr>\n",
       "      <th>1</th>\n",
       "      <td>1</td>\n",
       "      <td>10.49.22.87</td>\n",
       "      <td>21</td>\n",
       "      <td>530 Login authentication failed</td>\n",
       "      <td>f379eaf3c831b04de153469d1bec345e</td>\n",
       "      <td>ftp</td>\n",
       "      <td>2019-05-30 23:51:46.734</td>\n",
       "      <td>10.49.212.206</td>\n",
       "      <td>35910</td>\n",
       "      <td>lss6</td>\n",
       "    </tr>\n",
       "    <tr>\n",
       "      <th>2</th>\n",
       "      <td>2</td>\n",
       "      <td>10.24.249.104</td>\n",
       "      <td>3306</td>\n",
       "      <td>mysql login success</td>\n",
       "      <td>6c570961c863501d1af3346af287b801</td>\n",
       "      <td>mysql</td>\n",
       "      <td>2019-05-30 23:51:46.921</td>\n",
       "      <td>10.56.92.187</td>\n",
       "      <td>56173</td>\n",
       "      <td>lss6</td>\n",
       "    </tr>\n",
       "    <tr>\n",
       "      <th>3</th>\n",
       "      <td>3</td>\n",
       "      <td>10.24.249.104</td>\n",
       "      <td>3306</td>\n",
       "      <td>mysql login success</td>\n",
       "      <td>0b470c0ef029a53a2111561dcf2a642b</td>\n",
       "      <td>mysql</td>\n",
       "      <td>2019-05-30 23:51:47.427</td>\n",
       "      <td>10.56.92.187</td>\n",
       "      <td>56174</td>\n",
       "      <td>lss6</td>\n",
       "    </tr>\n",
       "    <tr>\n",
       "      <th>4</th>\n",
       "      <td>4</td>\n",
       "      <td>10.49.148.131</td>\n",
       "      <td>3306</td>\n",
       "      <td>mysql login success</td>\n",
       "      <td>1db2720439a620e362a8aae227fe7493</td>\n",
       "      <td>mysql</td>\n",
       "      <td>2019-05-30 23:51:47.791</td>\n",
       "      <td>10.49.148.130</td>\n",
       "      <td>55799</td>\n",
       "      <td>uyhrnf</td>\n",
       "    </tr>\n",
       "  </tbody>\n",
       "</table>\n",
       "</div>"
      ],
      "text/plain": [
       "   Unnamed: 0 destination_ip  destination_port  \\\n",
       "0           0    10.49.22.87                21   \n",
       "1           1    10.49.22.87                21   \n",
       "2           2  10.24.249.104              3306   \n",
       "3           3  10.24.249.104              3306   \n",
       "4           4  10.49.148.131              3306   \n",
       "\n",
       "                              info                          password protocol  \\\n",
       "0                      530 Logout.  f379eaf3c831b04de153469d1bec345e      ftp   \n",
       "1  530 Login authentication failed  f379eaf3c831b04de153469d1bec345e      ftp   \n",
       "2              mysql login success  6c570961c863501d1af3346af287b801    mysql   \n",
       "3              mysql login success  0b470c0ef029a53a2111561dcf2a642b    mysql   \n",
       "4              mysql login success  1db2720439a620e362a8aae227fe7493    mysql   \n",
       "\n",
       "               record_time      source_ip  source_port    user  \n",
       "0  2019-05-30 23:51:46.734  10.49.212.206        35910    lss6  \n",
       "1  2019-05-30 23:51:46.734  10.49.212.206        35910    lss6  \n",
       "2  2019-05-30 23:51:46.921   10.56.92.187        56173    lss6  \n",
       "3  2019-05-30 23:51:47.427   10.56.92.187        56174    lss6  \n",
       "4  2019-05-30 23:51:47.791  10.49.148.130        55799  uyhrnf  "
      ]
     },
     "execution_count": 1,
     "metadata": {},
     "output_type": "execute_result"
    }
   ],
   "source": [
    "#加载数据，数据存放在all_records变量中\n",
    "\n",
    "import pandas as pd\n",
    "import os\n",
    "path='login'\n",
    "files=os.listdir(path)\n",
    "all_records=pd.DataFrame()\n",
    "for file in files:\n",
    "    f=pd.read_csv(path+'/'+file)\n",
    "    #我这里必须要加这个赋值语句，可以修改\n",
    "    all_records=all_records.append(f)\n",
    "all_records.head()"
   ]
  },
  {
   "cell_type": "code",
   "execution_count": 16,
   "metadata": {},
   "outputs": [
    {
     "name": "stdout",
     "output_type": "stream",
     "text": [
      "['230 Anonymous access granted, restrictions apply', '230 Login successful.', '230 User logged in, proceed.', '331 User root OK. Password required', '530 Login authentication failed', '530 Login or password incorrect!', '530 Logout.', '530 Sorry, no ANONYMOUS access allowed.', '530 û��Ȩ��', 'STATUS_LOGON_FAILURE', 'STATUS_LOGON_SUCCESS', 'Unknow command AUTH ', 'authentication successed', 'authorization success', 'internal server error', 'mysql login success', '�\\u07b7���½�������û�POP����δ��ͨ��authorization failed']\n"
     ]
    }
   ],
   "source": [
    "#统计登录info\n",
    "\n",
    "tmp = all_records.groupby(['info'])\n",
    "infos = []\n",
    "i = 0\n",
    "for name, group in  tmp:\n",
    "    infos.append(name)\n",
    "    group.to_csv(\"login_code\" + \"/\" + str(i)+\".csv\", index=False)\n",
    "    i += 1\n",
    "tmp_frame = pd.DataFrame()\n",
    "tmp_frame['info'] = infos\n",
    "#tmp_frame.to_csv(\"login_info.csv\", index=False)  #这里生成csv\n",
    "print(infos)"
   ]
  },
  {
   "cell_type": "code",
   "execution_count": 24,
   "metadata": {},
   "outputs": [],
   "source": [
    "#删选服务器\n",
    "\n",
    "tmp = all_records.groupby(['destination_ip'])\n",
    "ips = []\n",
    "times = []\n",
    "protocols = []\n",
    "src_ips = []\n",
    "for name, group in tmp:\n",
    "    ips.append(name)\n",
    "    times.append(group.shape[0])\n",
    "    this_protocol = []\n",
    "    tmp2 = group.groupby(['protocol'])\n",
    "    for n, g in tmp2:\n",
    "        this_protocol.append(n)\n",
    "    protocols.append(this_protocol)\n",
    "    src_ip = []\n",
    "    tmp3 = group.groupby(['source_ip'])\n",
    "    for n, g in tmp3:\n",
    "        src_ip.append(n)\n",
    "    src_ips.append(len(src_ip))\n",
    "    \n",
    "tmp_frame = pd.DataFrame()\n",
    "tmp_frame['ip'] = ips\n",
    "tmp_frame['time'] = times\n",
    "tmp_frame['protocol'] = protocols\n",
    "tmp_frame['source_ip'] = src_ips\n",
    "tmp_frame.to_csv(\"login_code/dst_ip.csv\", index = False)"
   ]
  },
  {
   "cell_type": "code",
   "execution_count": 5,
   "metadata": {},
   "outputs": [],
   "source": [
    "#删选指定dst ip的所有记录\n",
    "\n",
    "ip = [\"10.49.22.87\"]    #要查询的IP\n",
    "query = pd.DataFrame()\n",
    "query = all_records[all_records['destination_ip'].isin(ip)]\n",
    "#query.to_csv(\"dst\"+ip[0] + \".csv\", index = False)"
   ]
  },
  {
   "cell_type": "code",
   "execution_count": 7,
   "metadata": {},
   "outputs": [
    {
     "name": "stdout",
     "output_type": "stream",
     "text": [
      "331 User root OK. Password required\n",
      "(8582, 10)\n",
      "530 Login authentication failed\n",
      "(3526265, 10)\n",
      "530 Logout.\n",
      "(2678144, 10)\n"
     ]
    }
   ],
   "source": [
    "#以下代码基于上面的查询，现在是查询与该IP通信的所有用户\n",
    "\n",
    "tmp = query.groupby(['info'])\n",
    "for name, group in tmp:\n",
    "    print(name)\n",
    "    print(group.shape)"
   ]
  },
  {
   "cell_type": "code",
   "execution_count": 4,
   "metadata": {},
   "outputs": [
    {
     "name": "stdout",
     "output_type": "stream",
     "text": [
      "(3526265, 10)\n"
     ]
    }
   ],
   "source": [
    "#登录失败IP\n",
    "\n",
    "data = pd.read_csv(\"login_code/4.csv\")\n",
    "tmp = data.groupby(['source_ip', 'user'])\n",
    "for name, group in tmp:\n",
    "    name = list(name)\n",
    "    #group.to_csv(\"login_failed/\" + name[0] + name[1] + '.csv', index = False)\n",
    "    print(group.shape)\n",
    "    "
   ]
  },
  {
   "cell_type": "code",
   "execution_count": 29,
   "metadata": {},
   "outputs": [
    {
     "name": "stdout",
     "output_type": "stream",
     "text": [
      "   Unnamed: 0 destination_ip  destination_port  \\\n",
      "0           1    10.49.22.87                21   \n",
      "1           6    10.49.22.87                21   \n",
      "2           7    10.49.22.87                21   \n",
      "3          10    10.49.22.87                21   \n",
      "4          11    10.49.22.87                21   \n",
      "\n",
      "                              info                          password protocol  \\\n",
      "0  530 Login authentication failed  f379eaf3c831b04de153469d1bec345e      ftp   \n",
      "1  530 Login authentication failed  96e79218965eb72c92a549dd5a330112      ftp   \n",
      "2  530 Login authentication failed  96e79218965eb72c92a549dd5a330112      ftp   \n",
      "3  530 Login authentication failed  96e79218965eb72c92a549dd5a330112      ftp   \n",
      "4  530 Login authentication failed  9d4568c009d203ab10e33ea9953a0264      ftp   \n",
      "\n",
      "               record_time      source_ip  source_port  user  \n",
      "0  2019-05-30 23:51:46.734  10.49.212.206        35910  lss6  \n",
      "1  2019-05-30 23:51:48.190  10.49.212.206        36062  lss6  \n",
      "2  2019-05-30 23:51:48.235  10.49.212.206        36061  lss6  \n",
      "3  2019-05-30 23:51:48.574  10.49.212.206        36060  lss6  \n",
      "4  2019-05-30 23:51:48.664  10.49.212.206        36199  lss6  \n"
     ]
    }
   ],
   "source": [
    "print(data.head())"
   ]
  },
  {
   "cell_type": "code",
   "execution_count": 30,
   "metadata": {},
   "outputs": [],
   "source": [
    "#按协议切login日志\n",
    "\n",
    "tmp = all_records.groupby(['protocol'])\n",
    "for name, group in tmp:\n",
    "    group.to_csv(\"login_protocol/\" + name + \".csv\", index = False)"
   ]
  },
  {
   "cell_type": "code",
   "execution_count": 3,
   "metadata": {},
   "outputs": [],
   "source": [
    "#查询IP与用户是否对应\n",
    "\n",
    "src_ips = []\n",
    "users = []\n",
    "\n",
    "tmp = all_records.groupby(['source_ip', 'user'])\n",
    "for name, group in tmp:\n",
    "    name = list(name)\n",
    "    src_ips.append(name[0])\n",
    "    users.append(name[1])\n",
    "    \n",
    "tmp_frame = pd.DataFrame()\n",
    "tmp_frame['ip'] = src_ips\n",
    "tmp_frame['user'] = users\n",
    "tmp_frame.to_csv(\"user_ip.csv\", index = False)"
   ]
  },
  {
   "cell_type": "code",
   "execution_count": null,
   "metadata": {},
   "outputs": [],
   "source": []
  }
 ],
 "metadata": {
  "kernelspec": {
   "display_name": "Python 3",
   "language": "python",
   "name": "python3"
  },
  "language_info": {
   "codemirror_mode": {
    "name": "ipython",
    "version": 3
   },
   "file_extension": ".py",
   "mimetype": "text/x-python",
   "name": "python",
   "nbconvert_exporter": "python",
   "pygments_lexer": "ipython3",
   "version": "3.7.1"
  }
 },
 "nbformat": 4,
 "nbformat_minor": 2
}
