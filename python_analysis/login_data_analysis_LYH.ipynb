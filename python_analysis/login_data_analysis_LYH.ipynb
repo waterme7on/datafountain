{
 "nbformat": 4,
 "nbformat_minor": 2,
 "metadata": {
  "language_info": {
   "name": "python",
   "codemirror_mode": {
    "name": "ipython",
    "version": 3
   }
  },
  "orig_nbformat": 2,
  "file_extension": ".py",
  "mimetype": "text/x-python",
  "name": "python",
  "npconvert_exporter": "python",
  "pygments_lexer": "ipython3",
  "version": 3
 },
 "cells": [
  {
   "cell_type": "code",
   "execution_count": 2,
   "metadata": {},
   "outputs": [],
   "source": [
    "import os\n",
    "import pandas as pd\n",
    "import numpy as np"
   ]
  },
  {
   "cell_type": "code",
   "execution_count": 4,
   "metadata": {},
   "outputs": [
    {
     "name": "stdout",
     "output_type": "stream",
     "text": "['part-00000.csv', 'part-00001.csv']\n"
    }
   ],
   "source": [
    "login_csv_dir_path = \"E:\\\\datafountain\\\\dataset_2\\\\login\\\\csv\\\\\"\n",
    "login_csv_data_path_list = os.listdir(login_csv_dir_path)\n",
    "print(login_csv_data_path_list)"
   ]
  },
  {
   "cell_type": "code",
   "execution_count": 5,
   "metadata": {},
   "outputs": [],
   "source": [
    "login_csv_data1 = pd.read_csv( login_csv_dir_path+login_csv_data_path_list[0],engine='c')\n",
    "login_protocol1 = login_csv_data1[\"protocol\"]\n",
    "login_info1 = login_csv_data1[\"info\"]"
   ]
  },
  {
   "cell_type": "code",
   "execution_count": 6,
   "metadata": {},
   "outputs": [],
   "source": [
    "login_csv_data2 =  pd.read_csv(login_csv_dir_path+login_csv_data_path_list[1],engine='c')\n",
    "login_info2 = login_csv_data2[\"info\"]\n",
    "login_protocol2 = login_csv_data2[\"protocol\"]"
   ]
  },
  {
   "cell_type": "code",
   "execution_count": 7,
   "metadata": {},
   "outputs": [
    {
     "name": "stdout",
     "output_type": "stream",
     "text": "login_csv_data1's shape:\n(5015135, 10)\nlogin_csv_data2's shape:\n(5011875, 10)\n"
    }
   ],
   "source": [
    "#查看多少行\n",
    "print(\"login_csv_data1's shape:\")\n",
    "print(login_csv_data1.shape)\n",
    "print(\"login_csv_data2's shape:\")\n",
    "print(login_csv_data2.shape)"
   ]
  },
  {
   "cell_type": "code",
   "execution_count": 8,
   "metadata": {},
   "outputs": [],
   "source": [
    "login_info = pd.concat([login_info1,login_info2],axis=0,ignore_index=True)\n",
    "login_protocol = pd.concat([login_protocol1,login_protocol2],axis=0,ignore_index=True)"
   ]
  },
  {
   "cell_type": "code",
   "execution_count": 9,
   "metadata": {},
   "outputs": [
    {
     "data": {
      "text/plain": "info\n230 Anonymous access granted, restrictions apply          7\n230 Login successful.                                     3\n230 User logged in, proceed.                             19\n331 User root OK. Password required                    8582\n530 Login authentication failed                     3526265\n530 Login or password incorrect!                          5\n530 Logout.                                         2678144\n530 Sorry, no ANONYMOUS access allowed.                  16\n530 û��Ȩ��                                                2\nSTATUS_LOGON_FAILURE                                 198866\nSTATUS_LOGON_SUCCESS                                  20884\nUnknow command AUTH                                       3\nauthentication successed                                 55\nauthorization success                                   869\ninternal server error                                     5\nmysql login success                                 3593283\n�޷���½�������û�POP����δ��ͨ��authorization failed          2\nName: info, dtype: int64"
     },
     "execution_count": 9,
     "metadata": {},
     "output_type": "execute_result"
    }
   ],
   "source": [
    "#查看多少种状态信息\n",
    "login_info.groupby(login_info).count()"
   ]
  },
  {
   "cell_type": "code",
   "execution_count": 10,
   "metadata": {},
   "outputs": [
    {
     "data": {
      "text/plain": "protocol\nftp      6213043\nmysql    3593283\npop          879\nsmb       219750\nsmtp          55\nName: protocol, dtype: int64"
     },
     "execution_count": 10,
     "metadata": {},
     "output_type": "execute_result"
    }
   ],
   "source": [
    "login_protocol.groupby(login_protocol).count()"
   ]
  },
  {
   "cell_type": "code",
   "execution_count": null,
   "metadata": {},
   "outputs": [],
   "source": [
    "login_protocol"
   ]
  }
 ]
}