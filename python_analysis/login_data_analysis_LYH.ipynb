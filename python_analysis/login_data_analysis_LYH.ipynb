{
 "nbformat": 4,
 "nbformat_minor": 2,
 "metadata": {
  "language_info": {
   "name": "python",
   "codemirror_mode": {
    "name": "ipython",
    "version": 3
   }
  },
  "orig_nbformat": 2,
  "file_extension": ".py",
  "mimetype": "text/x-python",
  "name": "python",
  "npconvert_exporter": "python",
  "pygments_lexer": "ipython3",
  "version": 3
 },
 "cells": [
  {
   "cell_type": "code",
   "execution_count": 1,
   "metadata": {},
   "outputs": [],
   "source": [
    "import os\n",
    "import pandas as pd\n",
    "import numpy as np"
   ]
  },
  {
   "cell_type": "code",
   "execution_count": 19,
   "metadata": {},
   "outputs": [
    {
     "name": "stdout",
     "output_type": "stream",
     "text": "['part-00000.csv', 'part-00001.csv']\n"
    }
   ],
   "source": [
    "login_csv_dir_path = \"E:\\\\datafountain\\\\dataset_2\\\\login\\\\csv\\\\\"\n",
    "login_csv_data_path_list = os.listdir(login_csv_dir_path)\n",
    "print(login_csv_data_path_list)"
   ]
  },
  {
   "cell_type": "code",
   "execution_count": 20,
   "metadata": {},
   "outputs": [],
   "source": [
    "login_csv_data1 = pd.read_csv( login_csv_dir_path+login_csv_data_path_list[0],engine='c')"
   ]
  },
  {
   "cell_type": "code",
   "execution_count": null,
   "metadata": {},
   "outputs": [],
   "source": [
    "login_csv_data2 =  pd.read_csv(login_csv_dir_path+login_csv_data_path_list[1],engine='c')"
   ]
  },
  {
   "cell_type": "code",
   "execution_count": 21,
   "metadata": {},
   "outputs": [
    {
     "data": {
      "text/html": "<div>\n<style scoped>\n    .dataframe tbody tr th:only-of-type {\n        vertical-align: middle;\n    }\n\n    .dataframe tbody tr th {\n        vertical-align: top;\n    }\n\n    .dataframe thead th {\n        text-align: right;\n    }\n</style>\n<table border=\"1\" class=\"dataframe\">\n  <thead>\n    <tr style=\"text-align: right;\">\n      <th></th>\n      <th>Unnamed: 0</th>\n      <th>destination_ip</th>\n      <th>destination_port</th>\n      <th>info</th>\n      <th>password</th>\n      <th>protocol</th>\n      <th>record_time</th>\n      <th>source_ip</th>\n      <th>source_port</th>\n      <th>user</th>\n    </tr>\n  </thead>\n  <tbody>\n    <tr>\n      <th>0</th>\n      <td>0</td>\n      <td>10.49.22.87</td>\n      <td>21</td>\n      <td>530 Logout.</td>\n      <td>f379eaf3c831b04de153469d1bec345e</td>\n      <td>ftp</td>\n      <td>2019-05-30 23:51:46.734</td>\n      <td>10.49.212.206</td>\n      <td>35910</td>\n      <td>lss6</td>\n    </tr>\n    <tr>\n      <th>1</th>\n      <td>1</td>\n      <td>10.49.22.87</td>\n      <td>21</td>\n      <td>530 Login authentication failed</td>\n      <td>f379eaf3c831b04de153469d1bec345e</td>\n      <td>ftp</td>\n      <td>2019-05-30 23:51:46.734</td>\n      <td>10.49.212.206</td>\n      <td>35910</td>\n      <td>lss6</td>\n    </tr>\n    <tr>\n      <th>2</th>\n      <td>2</td>\n      <td>10.24.249.104</td>\n      <td>3306</td>\n      <td>mysql login success</td>\n      <td>6c570961c863501d1af3346af287b801</td>\n      <td>mysql</td>\n      <td>2019-05-30 23:51:46.921</td>\n      <td>10.56.92.187</td>\n      <td>56173</td>\n      <td>lss6</td>\n    </tr>\n    <tr>\n      <th>3</th>\n      <td>3</td>\n      <td>10.24.249.104</td>\n      <td>3306</td>\n      <td>mysql login success</td>\n      <td>0b470c0ef029a53a2111561dcf2a642b</td>\n      <td>mysql</td>\n      <td>2019-05-30 23:51:47.427</td>\n      <td>10.56.92.187</td>\n      <td>56174</td>\n      <td>lss6</td>\n    </tr>\n    <tr>\n      <th>4</th>\n      <td>4</td>\n      <td>10.49.148.131</td>\n      <td>3306</td>\n      <td>mysql login success</td>\n      <td>1db2720439a620e362a8aae227fe7493</td>\n      <td>mysql</td>\n      <td>2019-05-30 23:51:47.791</td>\n      <td>10.49.148.130</td>\n      <td>55799</td>\n      <td>uyhrnf</td>\n    </tr>\n  </tbody>\n</table>\n</div>",
      "text/plain": "   Unnamed: 0 destination_ip  destination_port  \\\n0           0    10.49.22.87                21   \n1           1    10.49.22.87                21   \n2           2  10.24.249.104              3306   \n3           3  10.24.249.104              3306   \n4           4  10.49.148.131              3306   \n\n                              info                          password protocol  \\\n0                      530 Logout.  f379eaf3c831b04de153469d1bec345e      ftp   \n1  530 Login authentication failed  f379eaf3c831b04de153469d1bec345e      ftp   \n2              mysql login success  6c570961c863501d1af3346af287b801    mysql   \n3              mysql login success  0b470c0ef029a53a2111561dcf2a642b    mysql   \n4              mysql login success  1db2720439a620e362a8aae227fe7493    mysql   \n\n               record_time      source_ip  source_port    user  \n0  2019-05-30 23:51:46.734  10.49.212.206        35910    lss6  \n1  2019-05-30 23:51:46.734  10.49.212.206        35910    lss6  \n2  2019-05-30 23:51:46.921   10.56.92.187        56173    lss6  \n3  2019-05-30 23:51:47.427   10.56.92.187        56174    lss6  \n4  2019-05-30 23:51:47.791  10.49.148.130        55799  uyhrnf  "
     },
     "execution_count": 21,
     "metadata": {},
     "output_type": "execute_result"
    }
   ],
   "source": [
    "login_csv_data1.head()"
   ]
  },
  {
   "cell_type": "code",
   "execution_count": 23,
   "metadata": {},
   "outputs": [
    {
     "data": {
      "text/plain": "(5015135, 10)"
     },
     "execution_count": 23,
     "metadata": {},
     "output_type": "execute_result"
    }
   ],
   "source": [
    "#查看多少行\n",
    "login_csv_data1.shape"
   ]
  },
  {
   "cell_type": "code",
   "execution_count": 39,
   "metadata": {},
   "outputs": [
    {
     "data": {
      "text/plain": "0                                               530 Logout.\n1                           530 Login authentication failed\n2                                       mysql login success\n48                                     STATUS_LOGON_FAILURE\n169                     331 User root OK. Password required\n1696                                   STATUS_LOGON_SUCCESS\n38065                                 authorization success\n192116                     530 Login or password incorrect!\n216267                             authentication successed\n277095                         230 User logged in, proceed.\n920351                                internal server error\n1443167                               230 Login successful.\n1782875             530 Sorry, no ANONYMOUS access allowed.\n1979319                                Unknow command AUTH \n3131305    �޷���½�������û�POP����δ��ͨ��authorization failed\n4105831    230 Anonymous access granted, restrictions apply\nName: info, dtype: object"
     },
     "execution_count": 39,
     "metadata": {},
     "output_type": "execute_result"
    }
   ],
   "source": [
    "#查看多少种状态信息\n",
    "login_info1 = login_csv_data1[\"info\"]\n",
    "login_info1.drop_duplicates()"
   ]
  },
  {
   "cell_type": "code",
   "execution_count": 40,
   "metadata": {},
   "outputs": [
    {
     "data": {
      "text/plain": "0           ftp\n2         mysql\n48          smb\n38065       pop\n216267     smtp\nName: protocol, dtype: object"
     },
     "execution_count": 40,
     "metadata": {},
     "output_type": "execute_result"
    }
   ],
   "source": [
    "login_protocol1 = login_csv_data1[\"protocol\"]\n",
    "login_protocol1.drop_duplicates()"
   ]
  },
  {
   "cell_type": "code",
   "execution_count": 31,
   "metadata": {},
   "outputs": [
    {
     "data": {
      "text/html": "<div>\n<style scoped>\n    .dataframe tbody tr th:only-of-type {\n        vertical-align: middle;\n    }\n\n    .dataframe tbody tr th {\n        vertical-align: top;\n    }\n\n    .dataframe thead th {\n        text-align: right;\n    }\n</style>\n<table border=\"1\" class=\"dataframe\">\n  <thead>\n    <tr style=\"text-align: right;\">\n      <th></th>\n      <th>Unnamed: 0</th>\n      <th>destination_ip</th>\n      <th>destination_port</th>\n      <th>info</th>\n      <th>password</th>\n      <th>protocol</th>\n      <th>record_time</th>\n      <th>source_ip</th>\n      <th>source_port</th>\n      <th>user</th>\n    </tr>\n  </thead>\n  <tbody>\n    <tr>\n      <th>0</th>\n      <td>0</td>\n      <td>10.49.22.87</td>\n      <td>21</td>\n      <td>530 Logout.</td>\n      <td>f379eaf3c831b04de153469d1bec345e</td>\n      <td>ftp</td>\n      <td>2019-05-30 23:51:46.734</td>\n      <td>10.49.212.206</td>\n      <td>35910</td>\n      <td>lss6</td>\n    </tr>\n    <tr>\n      <th>1</th>\n      <td>1</td>\n      <td>10.49.22.87</td>\n      <td>21</td>\n      <td>530 Login authentication failed</td>\n      <td>f379eaf3c831b04de153469d1bec345e</td>\n      <td>ftp</td>\n      <td>2019-05-30 23:51:46.734</td>\n      <td>10.49.212.206</td>\n      <td>35910</td>\n      <td>lss6</td>\n    </tr>\n    <tr>\n      <th>2</th>\n      <td>2</td>\n      <td>10.24.249.104</td>\n      <td>3306</td>\n      <td>mysql login success</td>\n      <td>6c570961c863501d1af3346af287b801</td>\n      <td>mysql</td>\n      <td>2019-05-30 23:51:46.921</td>\n      <td>10.56.92.187</td>\n      <td>56173</td>\n      <td>lss6</td>\n    </tr>\n    <tr>\n      <th>3</th>\n      <td>3</td>\n      <td>10.24.249.104</td>\n      <td>3306</td>\n      <td>mysql login success</td>\n      <td>0b470c0ef029a53a2111561dcf2a642b</td>\n      <td>mysql</td>\n      <td>2019-05-30 23:51:47.427</td>\n      <td>10.56.92.187</td>\n      <td>56174</td>\n      <td>lss6</td>\n    </tr>\n    <tr>\n      <th>4</th>\n      <td>4</td>\n      <td>10.49.148.131</td>\n      <td>3306</td>\n      <td>mysql login success</td>\n      <td>1db2720439a620e362a8aae227fe7493</td>\n      <td>mysql</td>\n      <td>2019-05-30 23:51:47.791</td>\n      <td>10.49.148.130</td>\n      <td>55799</td>\n      <td>uyhrnf</td>\n    </tr>\n  </tbody>\n</table>\n</div>",
      "text/plain": "   Unnamed: 0 destination_ip  destination_port  \\\n0           0    10.49.22.87                21   \n1           1    10.49.22.87                21   \n2           2  10.24.249.104              3306   \n3           3  10.24.249.104              3306   \n4           4  10.49.148.131              3306   \n\n                              info                          password protocol  \\\n0                      530 Logout.  f379eaf3c831b04de153469d1bec345e      ftp   \n1  530 Login authentication failed  f379eaf3c831b04de153469d1bec345e      ftp   \n2              mysql login success  6c570961c863501d1af3346af287b801    mysql   \n3              mysql login success  0b470c0ef029a53a2111561dcf2a642b    mysql   \n4              mysql login success  1db2720439a620e362a8aae227fe7493    mysql   \n\n               record_time      source_ip  source_port    user  \n0  2019-05-30 23:51:46.734  10.49.212.206        35910    lss6  \n1  2019-05-30 23:51:46.734  10.49.212.206        35910    lss6  \n2  2019-05-30 23:51:46.921   10.56.92.187        56173    lss6  \n3  2019-05-30 23:51:47.427   10.56.92.187        56174    lss6  \n4  2019-05-30 23:51:47.791  10.49.148.130        55799  uyhrnf  "
     },
     "execution_count": 31,
     "metadata": {},
     "output_type": "execute_result"
    }
   ],
   "source": [
    "login_csv_data1.head()"
   ]
  },
  {
   "cell_type": "code",
   "execution_count": 41,
   "metadata": {},
   "outputs": [
    {
     "data": {
      "text/plain": "protocol\nftp      3107464\nmysql    1797371\npop          435\nsmb       109835\nsmtp          30\nName: protocol, dtype: int64"
     },
     "execution_count": 41,
     "metadata": {},
     "output_type": "execute_result"
    }
   ],
   "source": [
    "login_protocol1.groupby(login_protocol1).count()"
   ]
  },
  {
   "cell_type": "code",
   "execution_count": 42,
   "metadata": {},
   "outputs": [
    {
     "data": {
      "text/plain": "info\n230 Anonymous access granted, restrictions apply          4\n230 Login successful.                                     2\n230 User logged in, proceed.                             12\n331 User root OK. Password required                    4279\n530 Login authentication failed                     1764062\n530 Login or password incorrect!                          2\n530 Logout.                                         1339095\n530 Sorry, no ANONYMOUS access allowed.                   8\nSTATUS_LOGON_FAILURE                                  99408\nSTATUS_LOGON_SUCCESS                                  10427\nUnknow command AUTH                                       1\nauthentication successed                                 30\nauthorization success                                   430\ninternal server error                                     2\nmysql login success                                 1797371\n�޷���½�������û�POP����δ��ͨ��authorization failed          2\nName: info, dtype: int64"
     },
     "execution_count": 42,
     "metadata": {},
     "output_type": "execute_result"
    }
   ],
   "source": [
    "login_info1.groupby(login_info1).count()"
   ]
  },
  {
   "cell_type": "code",
   "execution_count": null,
   "metadata": {},
   "outputs": [],
   "source": []
  }
 ]
}