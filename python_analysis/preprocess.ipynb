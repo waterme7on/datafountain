{
 "cells": [
  {
   "cell_type": "code",
   "execution_count": 14,
   "metadata": {},
   "outputs": [],
   "source": [
    "#复赛数据处理\n",
    "#for login data\n",
    "origin_data_path = \"\"  #only stores the origin data downloaded from datafoutain \n",
    "\n",
    "json_data_path = \"\" #stores  pandas-readable json file\n",
    "csv_path = \"\"   #  path you store the final csv file \n",
    "\n",
    "import os\n",
    "import pandas as pd\n",
    "import numpy as np\n",
    "\n",
    "#pre-process data into readable json\n",
    "\n",
    "filelist = os.listdir(origin_data_path)  #\n",
    "print(filelist) "
   ]
  },
  {
   "cell_type": "code",
   "execution_count": 15,
   "metadata": {},
   "outputs": [],
   "source": [
    "# pandas-readable data format : [{json-row}, {json-row}, {jhson-row}]\n",
    "#origin format:\n",
    "'''\n",
    "{json-row}    \n",
    "{json-row}    \n",
    "{json-row}    \n",
    "'''\n",
    "#need to add \",\" and [ ]\n",
    "\n",
    "for i in range (0,len(filelist) ): #for each file\n",
    "    print(i)\n",
    "    myfile = open(origin_data_path+filelist[i], \"r\")\n",
    "    \n",
    "    myfile_test = open(json_data_path+filelist[i],\"w\")\n",
    "    lines = myfile.readlines()\n",
    "    for j in range( 0, len(lines)  ):\n",
    "        \n",
    "        if(j == 0 ):\n",
    "            line = \"[\" + lines[j]   #add \"[\" n at first row  \n",
    "        elif(j== len(lines)-1):\n",
    "            line = lines[j]+\"]\"  #add \"]\" at last row\n",
    "        else:\n",
    "            line = lines[j]\n",
    "        if(j < ( len(lines)-1) ):  #replace tab with comma\n",
    "            line = line.replace(\"}\t\", \"},\")\n",
    "        else:\n",
    "            line = line.replace(\"}\t\", \"}\")# no need to replace at last row\n",
    "        \n",
    "        myfile_test.write(line)\n",
    "        myfile.close()\n",
    "        \n",
    "    print(\"file \"+str(i)+\" is finished\") \n",
    "    \n",
    "    myfile_test.close()"
   ]
  },
  {
   "cell_type": "code",
   "execution_count": 13,
   "metadata": {},
   "outputs": [],
   "source": [
    "i=0\n",
    "for i in range(0,len(filelist) ):\n",
    "    f = open(json_data_path+filelist[i])\n",
    "    my_df = pd.read_json(f)\n",
    "    my_df.to_csv(csv_path+filelist[i]+\".csv\")\n",
    "    f.close()\n",
    "    print(\"file \",i,\"is finished\")"
   ]
  },
  {
   "cell_type": "code",
   "execution_count": 8,
   "metadata": {},
   "outputs": [],
   "source": []
  },
  {
   "cell_type": "code",
   "execution_count": 9,
   "metadata": {},
   "outputs": [],
   "source": []
  },
  {
   "cell_type": "code",
   "execution_count": null,
   "metadata": {},
   "outputs": [],
   "source": []
  }
 ],
 "metadata": {
  "kernelspec": {
   "display_name": "Python 3",
   "language": "python",
   "name": "python3"
  },
  "language_info": {
   "codemirror_mode": {
    "name": "ipython",
    "version": 3
   },
   "file_extension": ".py",
   "mimetype": "text/x-python",
   "name": "python",
   "nbconvert_exporter": "python",
   "pygments_lexer": "ipython3",
   "version": "3.7.1"
  }
 },
 "nbformat": 4,
 "nbformat_minor": 2
}
