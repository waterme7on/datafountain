{
 "cells": [
  {
   "cell_type": "code",
   "execution_count": null,
   "metadata": {},
   "outputs": [],
   "source": []
  },
  {
   "cell_type": "code",
   "execution_count": null,
   "metadata": {},
   "outputs": [],
   "source": [
    "def get_method_type(flow, path,filename):\n",
    "    #将flow数据的method读出， 存成csv文件\n",
    "    method_type = flow[\"method\"].unique()\n",
    "    method_df = pd.DataFrame(test,columns=['method'])\n",
    "    method_df.to_csv(path+filename)\n",
    "    return\n",
    "\n",
    "#以下分配参数：\n",
    "#LYH: [\"part-00000.csv\",\"part-00001.csv\"，……，\"part-00007.csv\" ]\n",
    "#LJT：8-15\n",
    "#GSY：16-23\n",
    "#XQY：24-31\n",
    "#LL：32-39\n",
    "#filename: method_名字缩写.csv  例如： method_LYH.csv  \n",
    "\n"
   ]
  },
  {
   "cell_type": "code",
   "execution_count": null,
   "metadata": {},
   "outputs": [],
   "source": [
    "#定义参数\n",
    "#例如xqy\n",
    "filename_list = [\"part-00000.csv\",\"part-00001.csv\",\"part-00002.csv\",\"part-00003.csv\",\"part-00004.csv\",\"part-00005.csv\",\"part-00006.csv\",\"part-00007.csv\" ]\n",
    "path = \"C://Users//徐庆羽//COMPOTITION//dataset_2//flow//\"\n",
    "\n",
    "path_method = \"C://\"\n",
    "\n",
    "filename = \"method_xqy.csv\""
   ]
  },
  {
   "cell_type": "code",
   "execution_count": null,
   "metadata": {},
   "outputs": [],
   "source": [
    "data = read_flow(filename_list, path )#填写每个人的参数"
   ]
  },
  {
   "cell_type": "code",
   "execution_count": null,
   "metadata": {},
   "outputs": [],
   "source": [
    "get_method_type(data, path_method, filename) #填写每个人的参数\n"
   ]
  },
  {
   "cell_type": "code",
   "execution_count": 9,
   "metadata": {},
   "outputs": [],
   "source": [
    "import json\n",
    "host={}\n",
    "Host=list(dataframe['host'])\n",
    "def host_count(DATA,path):# 汇总host, 并count数量\n",
    "    l=list(DATA['host'])\n",
    "    l_dict={}\n",
    "    for item in l:\n",
    "        l_dict[item]=1 if item not in l_dict else l_dict[item]+1\n",
    "    hosts=pd.DataFrame()\n",
    "    hosts['host']=list(l_dict.keys())\n",
    "    hosts['num']=list(l_dict.values())\n",
    "    hosts.to_csv(path+'flow_host_count.csv')\n",
    "    return l_dict\n",
    "\n",
    "def host_destip(DATA):# 按host汇总destination ip\n",
    "    tmp=pd.DataFrame()\n",
    "    host_dest={}\n",
    "    tmpt=DATA.groupby(['host'])\n",
    "    for name,group in tmpt:\n",
    "        host_dest[name]=list(group['destination_ip'])\n",
    "    with open('flow_host_dest.json', 'w') as f:\n",
    "        json.dump(host_dest, f)\n",
    "    return \n",
    "\n",
    "\n",
    "def find_uri(DATA):#按host统计uri及uri请求的次数 （不包含参数，即？之前的内容）\n",
    "    tmp=pd.DataFrame()\n",
    "    host_uri={}\n",
    "    tmpt=DATA.groupby(['host'])\n",
    "    for name,group in tmpt:\n",
    "        uris=list(group['uri'])\n",
    "        uri_true={}\n",
    "        for uri in uris:\n",
    "            uri=str(uri)\n",
    "            ques=uri.find('?')\n",
    "            if ques!=-1:\n",
    "                uri=uri[:ques]\n",
    "            else:\n",
    "                uri=uri\n",
    "            uri_true[uri]=1 if uri not in uri_true else uri_true[uri]+1\n",
    "        host_uri[name]=uri_true\n",
    "    with open('host_uri_num.json', 'w') as f:\n",
    "        json.dump(host_uri, f)\n",
    "        print(name)\n",
    "    return \n",
    "\n",
    "\n",
    "test0=host_count(dataframe,path)\n",
    "\n",
    "\n"
   ]
  },
  {
   "cell_type": "code",
   "execution_count": null,
   "metadata": {},
   "outputs": [],
   "source": []
  }
 ],
 "metadata": {
  "kernelspec": {
   "display_name": "Python 3",
   "language": "python",
   "name": "python3"
  },
  "language_info": {
   "codemirror_mode": {
    "name": "ipython",
    "version": 3
   },
   "file_extension": ".py",
   "mimetype": "text/x-python",
   "name": "python",
   "nbconvert_exporter": "python",
   "pygments_lexer": "ipython3",
   "version": "3.7.3"
  }
 },
 "nbformat": 4,
 "nbformat_minor": 2
}
