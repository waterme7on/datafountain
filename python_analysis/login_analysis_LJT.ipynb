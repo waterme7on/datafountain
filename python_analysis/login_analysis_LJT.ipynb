{
 "cells": [
  {
   "cell_type": "code",
   "execution_count": 6,
   "metadata": {},
   "outputs": [
    {
     "name": "stdout",
     "output_type": "stream",
     "text": [
      "['part-00000.csv', 'part-00001.csv']\n"
     ]
    }
   ],
   "source": [
    "import os\n",
    "import pandas as pd\n",
    "\n",
    "# login文件目录\n",
    "file_path=\"/mnt/m/df/dataset_2/login/csv\"\n",
    "\n",
    "os.chdir(file_path)\n",
    "files = []\n",
    "for file in os.listdir(os.getcwd()):\n",
    "    # 按后缀判断文件类型\n",
    "    if (file[-4:] == \".csv\"):\n",
    "        files.append(file)\n",
    "print(files)\n",
    "        "
   ]
  },
  {
   "cell_type": "code",
   "execution_count": 8,
   "metadata": {
    "scrolled": true
   },
   "outputs": [
    {
     "name": "stdout",
     "output_type": "stream",
     "text": [
      "part-00000.csv\n",
      "part-00001.csv\n",
      "   Unnamed: 0 destination_ip  destination_port  \\\n",
      "0           0    10.49.22.87                21   \n",
      "1           1    10.49.22.87                21   \n",
      "2           2  10.24.249.104              3306   \n",
      "3           3  10.24.249.104              3306   \n",
      "4           4  10.49.148.131              3306   \n",
      "\n",
      "                              info                          password protocol  \\\n",
      "0                      530 Logout.  f379eaf3c831b04de153469d1bec345e      ftp   \n",
      "1  530 Login authentication failed  f379eaf3c831b04de153469d1bec345e      ftp   \n",
      "2              mysql login success  6c570961c863501d1af3346af287b801    mysql   \n",
      "3              mysql login success  0b470c0ef029a53a2111561dcf2a642b    mysql   \n",
      "4              mysql login success  1db2720439a620e362a8aae227fe7493    mysql   \n",
      "\n",
      "               record_time      source_ip  source_port    user  \n",
      "0  2019-05-30 23:51:46.734  10.49.212.206        35910    lss6  \n",
      "1  2019-05-30 23:51:46.734  10.49.212.206        35910    lss6  \n",
      "2  2019-05-30 23:51:46.921   10.56.92.187        56173    lss6  \n",
      "3  2019-05-30 23:51:47.427   10.56.92.187        56174    lss6  \n",
      "4  2019-05-30 23:51:47.791  10.49.148.130        55799  uyhrnf  \n"
     ]
    }
   ],
   "source": [
    "# 读入csv文件\n",
    "login_data = pd.DataFrame()\n",
    "for file in files:\n",
    "    if (file[-4:] != \".csv\"):\n",
    "        continue\n",
    "    print(file)\n",
    "    f = pd.read_csv(file)\n",
    "    login_data = login_data.append(f)\n",
    "print(login_data.head())\n"
   ]
  },
  {
   "cell_type": "code",
   "execution_count": 9,
   "metadata": {},
   "outputs": [],
   "source": [
    "# group by \"user\"\n",
    "tmp = login_data.groupby(\"user\")\n",
    "tmp_df = pd.DataFrame()\n",
    "for name, group in tmp:\n",
    "#     print(name)\n",
    "#     print(group[[\"source_ip\", \"user\"]])\n",
    "    tmp_df = tmp_df.append(group[[\"user\",\"source_ip\"]]).drop_duplicates()\n",
    "    \n"
   ]
  },
  {
   "cell_type": "code",
   "execution_count": 10,
   "metadata": {},
   "outputs": [
    {
     "name": "stdout",
     "output_type": "stream",
     "text": [
      "                       user      source_ip\n",
      "164780         LBUZ\\3xjomrx   10.56.73.241\n",
      "168377          LBUZ\\6rxjys  10.56.141.175\n",
      "169924   LBUZ\\6xjoprjogbwjo   10.56.187.25\n",
      "2186097  LBUZ\\AOJGB-DCA-T9$    10.54.1.211\n",
      "276374      LBUZ\\AOJXOE-T9$  10.54.250.139\n"
     ]
    }
   ],
   "source": [
    "print(tmp_df.head())"
   ]
  },
  {
   "cell_type": "code",
   "execution_count": 11,
   "metadata": {},
   "outputs": [],
   "source": [
    " #导出\n",
    "tmp_df.to_csv(file_path+\"/grouped_by_user.csv\", index=False)"
   ]
  },
  {
   "cell_type": "code",
   "execution_count": null,
   "metadata": {},
   "outputs": [],
   "source": []
  }
 ],
 "metadata": {
  "kernelspec": {
   "display_name": "Python 3",
   "language": "python",
   "name": "python3"
  },
  "language_info": {
   "codemirror_mode": {
    "name": "ipython",
    "version": 3
   },
   "file_extension": ".py",
   "mimetype": "text/x-python",
   "name": "python",
   "nbconvert_exporter": "python",
   "pygments_lexer": "ipython3",
   "version": "3.6.9"
  }
 },
 "nbformat": 4,
 "nbformat_minor": 2
}
